{
 "cells": [
  {
   "cell_type": "code",
   "execution_count": 1,
   "id": "35dd90e7",
   "metadata": {},
   "outputs": [],
   "source": [
    "# IMPORTING LIBRARIES\n",
    "import numpy as np\n",
    "import pandas as pd\n",
    "import matplotlib.pyplot as plt\n",
    "import seaborn as sb\n",
    " \n",
    "from sklearn.model_selection import train_test_split\n",
    "from sklearn.preprocessing import MinMaxScaler\n",
    "from sklearn import metrics\n",
    "from sklearn.svm import SVC\n",
    "from xgboost import XGBClassifier\n",
    "from sklearn.linear_model import LogisticRegression\n",
    "#importing our cancer dataset\n",
    "dataset = pd.read_csv(\"c:/users/fadic/anaconda3/Library/lib/Untitled Folder/breast-cancer-wisconsin-data.csv\")\n"
   ]
  },
  {
   "cell_type": "code",
   "execution_count": 2,
   "id": "3aa597bd",
   "metadata": {},
   "outputs": [
    {
     "data": {
      "text/html": [
       "<div>\n",
       "<style scoped>\n",
       "    .dataframe tbody tr th:only-of-type {\n",
       "        vertical-align: middle;\n",
       "    }\n",
       "\n",
       "    .dataframe tbody tr th {\n",
       "        vertical-align: top;\n",
       "    }\n",
       "\n",
       "    .dataframe thead th {\n",
       "        text-align: right;\n",
       "    }\n",
       "</style>\n",
       "<table border=\"1\" class=\"dataframe\">\n",
       "  <thead>\n",
       "    <tr style=\"text-align: right;\">\n",
       "      <th></th>\n",
       "      <th>ID</th>\n",
       "      <th>clump_thickness</th>\n",
       "      <th>uniformity_cell_size</th>\n",
       "      <th>uniformity_cell_shape</th>\n",
       "      <th>marginal_adhesion</th>\n",
       "      <th>single_epi_cell_size</th>\n",
       "      <th>bare_nuclei</th>\n",
       "      <th>bland_chromatin</th>\n",
       "      <th>normal_nucleoli</th>\n",
       "      <th>mitoses</th>\n",
       "      <th>class</th>\n",
       "    </tr>\n",
       "  </thead>\n",
       "  <tbody>\n",
       "    <tr>\n",
       "      <th>0</th>\n",
       "      <td>1000025</td>\n",
       "      <td>5</td>\n",
       "      <td>1</td>\n",
       "      <td>1</td>\n",
       "      <td>1</td>\n",
       "      <td>2</td>\n",
       "      <td>1</td>\n",
       "      <td>3</td>\n",
       "      <td>1</td>\n",
       "      <td>1</td>\n",
       "      <td>2</td>\n",
       "    </tr>\n",
       "    <tr>\n",
       "      <th>1</th>\n",
       "      <td>1002945</td>\n",
       "      <td>5</td>\n",
       "      <td>4</td>\n",
       "      <td>4</td>\n",
       "      <td>5</td>\n",
       "      <td>7</td>\n",
       "      <td>10</td>\n",
       "      <td>3</td>\n",
       "      <td>2</td>\n",
       "      <td>1</td>\n",
       "      <td>2</td>\n",
       "    </tr>\n",
       "    <tr>\n",
       "      <th>2</th>\n",
       "      <td>1015425</td>\n",
       "      <td>3</td>\n",
       "      <td>1</td>\n",
       "      <td>1</td>\n",
       "      <td>1</td>\n",
       "      <td>2</td>\n",
       "      <td>2</td>\n",
       "      <td>3</td>\n",
       "      <td>1</td>\n",
       "      <td>1</td>\n",
       "      <td>2</td>\n",
       "    </tr>\n",
       "    <tr>\n",
       "      <th>3</th>\n",
       "      <td>1016277</td>\n",
       "      <td>6</td>\n",
       "      <td>8</td>\n",
       "      <td>8</td>\n",
       "      <td>1</td>\n",
       "      <td>3</td>\n",
       "      <td>4</td>\n",
       "      <td>3</td>\n",
       "      <td>7</td>\n",
       "      <td>1</td>\n",
       "      <td>2</td>\n",
       "    </tr>\n",
       "    <tr>\n",
       "      <th>4</th>\n",
       "      <td>1017023</td>\n",
       "      <td>4</td>\n",
       "      <td>1</td>\n",
       "      <td>1</td>\n",
       "      <td>3</td>\n",
       "      <td>2</td>\n",
       "      <td>1</td>\n",
       "      <td>3</td>\n",
       "      <td>1</td>\n",
       "      <td>1</td>\n",
       "      <td>2</td>\n",
       "    </tr>\n",
       "  </tbody>\n",
       "</table>\n",
       "</div>"
      ],
      "text/plain": [
       "        ID  clump_thickness  uniformity_cell_size  uniformity_cell_shape  \\\n",
       "0  1000025                5                     1                      1   \n",
       "1  1002945                5                     4                      4   \n",
       "2  1015425                3                     1                      1   \n",
       "3  1016277                6                     8                      8   \n",
       "4  1017023                4                     1                      1   \n",
       "\n",
       "   marginal_adhesion  single_epi_cell_size bare_nuclei  bland_chromatin  \\\n",
       "0                  1                     2           1                3   \n",
       "1                  5                     7          10                3   \n",
       "2                  1                     2           2                3   \n",
       "3                  1                     3           4                3   \n",
       "4                  3                     2           1                3   \n",
       "\n",
       "   normal_nucleoli  mitoses  class  \n",
       "0                1        1      2  \n",
       "1                2        1      2  \n",
       "2                1        1      2  \n",
       "3                7        1      2  \n",
       "4                1        1      2  "
      ]
     },
     "execution_count": 2,
     "metadata": {},
     "output_type": "execute_result"
    }
   ],
   "source": [
    "dataset.head()"
   ]
  },
  {
   "cell_type": "code",
   "execution_count": 3,
   "id": "efca8590",
   "metadata": {},
   "outputs": [
    {
     "name": "stdout",
     "output_type": "stream",
     "text": [
      "          ID  clump_thickness  uniformity_cell_size  uniformity_cell_shape  \\\n",
      "0    1000025                5                     1                      1   \n",
      "1    1002945                5                     4                      4   \n",
      "2    1015425                3                     1                      1   \n",
      "3    1016277                6                     8                      8   \n",
      "4    1017023                4                     1                      1   \n",
      "..       ...              ...                   ...                    ...   \n",
      "694   776715                3                     1                      1   \n",
      "695   841769                2                     1                      1   \n",
      "696   888820                5                    10                     10   \n",
      "697   897471                4                     8                      6   \n",
      "698   897471                4                     8                      8   \n",
      "\n",
      "     marginal_adhesion  single_epi_cell_size bare_nuclei  bland_chromatin  \\\n",
      "0                    1                     2           1                3   \n",
      "1                    5                     7          10                3   \n",
      "2                    1                     2           2                3   \n",
      "3                    1                     3           4                3   \n",
      "4                    3                     2           1                3   \n",
      "..                 ...                   ...         ...              ...   \n",
      "694                  1                     3           2                1   \n",
      "695                  1                     2           1                1   \n",
      "696                  3                     7           3                8   \n",
      "697                  4                     3           4               10   \n",
      "698                  5                     4           5               10   \n",
      "\n",
      "     normal_nucleoli  mitoses  class  \n",
      "0                  1        1      2  \n",
      "1                  2        1      2  \n",
      "2                  1        1      2  \n",
      "3                  7        1      2  \n",
      "4                  1        1      2  \n",
      "..               ...      ...    ...  \n",
      "694                1        1      2  \n",
      "695                1        1      2  \n",
      "696               10        2      4  \n",
      "697                6        1      4  \n",
      "698                4        1      4  \n",
      "\n",
      "[699 rows x 11 columns]\n",
      "\n",
      "After modifying first column:\n",
      " Index(['ID', 'clump_thickness', 'uniformity_cell_size',\n",
      "       'uniformity_cell_shape', 'marginal_adhesion', 'single_epi_cell_size',\n",
      "       'bare_nuclei', 'bland_chromatin', 'normal_nucleoli', 'mitoses', 'diag'],\n",
      "      dtype='object')\n"
     ]
    }
   ],
   "source": [
    "# Convert the dictionary into DataFrame\n",
    "dataset_pd = pd.DataFrame(dataset)\n",
    "# Before renaming the columns\n",
    "print(dataset_pd)\n",
    " \n",
    "dataset_pd.rename(columns = {'class':'diag'}, inplace = True)\n",
    " \n",
    "# After renaming the columns\n",
    "print(\"\\nAfter modifying first column:\\n\", dataset_pd.columns)"
   ]
  },
  {
   "cell_type": "code",
   "execution_count": 4,
   "id": "b4d5a918",
   "metadata": {},
   "outputs": [
    {
     "name": "stdout",
     "output_type": "stream",
     "text": [
      "Cancer data set dimensions : (699, 11)\n"
     ]
    }
   ],
   "source": [
    "print(\"Cancer data set dimensions : {}\".format(dataset.shape))"
   ]
  },
  {
   "cell_type": "code",
   "execution_count": 5,
   "id": "e17d5b3e",
   "metadata": {},
   "outputs": [],
   "source": [
    "#need to convert the 2 and 4 to 0  and 1 for the code to work.\n",
    "dataset['diag'].replace([2, 4], \n",
    "                         [0, 1], inplace=True)"
   ]
  },
  {
   "cell_type": "code",
   "execution_count": 6,
   "id": "1df16cfe",
   "metadata": {},
   "outputs": [
    {
     "name": "stdout",
     "output_type": "stream",
     "text": [
      "<class 'pandas.core.frame.DataFrame'>\n",
      "RangeIndex: 699 entries, 0 to 698\n",
      "Data columns (total 11 columns):\n",
      " #   Column                 Non-Null Count  Dtype \n",
      "---  ------                 --------------  ----- \n",
      " 0   ID                     699 non-null    int64 \n",
      " 1   clump_thickness        699 non-null    int64 \n",
      " 2   uniformity_cell_size   699 non-null    int64 \n",
      " 3   uniformity_cell_shape  699 non-null    int64 \n",
      " 4   marginal_adhesion      699 non-null    int64 \n",
      " 5   single_epi_cell_size   699 non-null    int64 \n",
      " 6   bare_nuclei            699 non-null    object\n",
      " 7   bland_chromatin        699 non-null    int64 \n",
      " 8   normal_nucleoli        699 non-null    int64 \n",
      " 9   mitoses                699 non-null    int64 \n",
      " 10  diag                   699 non-null    int64 \n",
      "dtypes: int64(10), object(1)\n",
      "memory usage: 60.2+ KB\n"
     ]
    }
   ],
   "source": [
    "#Check data with info function\n",
    "dataset.info()"
   ]
  },
  {
   "cell_type": "code",
   "execution_count": 7,
   "id": "81b4e0dd",
   "metadata": {},
   "outputs": [],
   "source": [
    "#this is based on the table from the logistic regression code displayed.\n",
    "data=dataset.drop(columns=['ID' , 'clump_thickness' , 'mitoses' , 'bare_nuclei' , 'single_epi_cell_size'])"
   ]
  },
  {
   "cell_type": "code",
   "execution_count": 9,
   "id": "c103ac2b",
   "metadata": {},
   "outputs": [
    {
     "data": {
      "image/png": "[encoded data removed]",
      "text/plain": [
       "<Figure size 1200x1200 with 1 Axes>"
      ]
     },
     "metadata": {},
     "output_type": "display_data"
    }
   ],
   "source": [
    "plt.figure(figsize=(12, 12))\n",
    "sb.heatmap(data.corr() > 0.7, annot=True, cbar=False)\n",
    "plt.show()"
   ]
  },
  {
   "cell_type": "code",
   "execution_count": 14,
   "id": "410eef8d",
   "metadata": {},
   "outputs": [],
   "source": [
    "\n",
    "\n",
    "data\n",
    "x_train = data.iloc[:,:-1]\n",
    "y_train = data.diag\n",
    "\n",
    "x_test = data.iloc[:,:-1]\n",
    "y_test = data.diag\n",
    "#X = data.iloc[:, 1:5].values\n",
    "#Y = data.iloc[:, 5].values"
   ]
  },
  {
   "cell_type": "code",
   "execution_count": 15,
   "id": "ce66f231",
   "metadata": {},
   "outputs": [],
   "source": [
    "norm = MinMaxScaler()\n",
    "x_train = norm.fit_transform(x_train)\n",
    "x_test = norm.transform(x_test)"
   ]
  },
  {
   "cell_type": "code",
   "execution_count": 16,
   "id": "8cc46c81",
   "metadata": {},
   "outputs": [
    {
     "name": "stdout",
     "output_type": "stream",
     "text": [
      "LogisticRegression() : \n",
      "Training Accuracy :  0.9360153291416767\n",
      "Validation Accuracy :  0.9360153291416767\n",
      "\n"
     ]
    }
   ],
   "source": [
    "models = LogisticRegression()\n",
    "\n",
    "\n",
    "models.fit(x_train, y_train)\n",
    "\n",
    "print(f'{models} : ')\n",
    "print('Training Accuracy : ', metrics.roc_auc_score(y_train, models.predict(x_train)))\n",
    "print('Validation Accuracy : ', metrics.roc_auc_score(\n",
    "y_test, models.predict(x_test)))\n",
    "print()\n"
   ]
  },
  {
   "cell_type": "code",
   "execution_count": 18,
   "id": "bed7b456",
   "metadata": {},
   "outputs": [
    {
     "name": "stdout",
     "output_type": "stream",
     "text": [
      "              precision    recall  f1-score   support\n",
      "\n",
      "           0       0.95      0.97      0.96       458\n",
      "           1       0.94      0.90      0.92       241\n",
      "\n",
      "    accuracy                           0.95       699\n",
      "   macro avg       0.95      0.94      0.94       699\n",
      "weighted avg       0.95      0.95      0.95       699\n",
      "\n"
     ]
    }
   ],
   "source": [
    "print(metrics.classification_report(y_test,models.predict(x_test)))"
   ]
  },
  {
   "cell_type": "code",
   "execution_count": 19,
   "id": "ed02aa4a",
   "metadata": {},
   "outputs": [],
   "source": [
    "import pickle\n",
    "with open('file_cancer.pkl','wb') as file:\n",
    "    pickle.dump(models,file)"
   ]
  },
  {
   "cell_type": "code",
   "execution_count": 20,
   "id": "37c03ea4",
   "metadata": {},
   "outputs": [
    {
     "data": {
      "text/plain": [
       "array([1], dtype=int64)"
      ]
     },
     "execution_count": 20,
     "metadata": {},
     "output_type": "execute_result"
    }
   ],
   "source": [
    "models.predict([[2, 3, 5, 4, 1]])"
   ]
  },
  {
   "cell_type": "code",
   "execution_count": null,
   "id": "851c869f",
   "metadata": {},
   "outputs": [],
   "source": []
  }
 ],
 "metadata": {
  "kernelspec": {
   "display_name": "Python 3 (ipykernel)",
   "language": "python",
   "name": "python3"
  },
  "language_info": {
   "codemirror_mode": {
    "name": "ipython",
    "version": 3
   },
   "file_extension": ".py",
   "mimetype": "text/x-python",
   "name": "python",
   "nbconvert_exporter": "python",
   "pygments_lexer": "ipython3",
   "version": "3.11.3"
  }
 },
 "nbformat": 4,
 "nbformat_minor": 5
}
